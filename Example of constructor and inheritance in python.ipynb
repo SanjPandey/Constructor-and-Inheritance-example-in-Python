{
 "cells": [
  {
   "cell_type": "code",
   "execution_count": 8,
   "id": "558b4a0e",
   "metadata": {},
   "outputs": [],
   "source": [
    "class addingNumber():\n",
    "    \n",
    "    def __init__(self,a,b):\n",
    "        self.a=a\n",
    "        self.b=b\n",
    "        \n",
    "    def add(self):\n",
    "        c=self.a+self.b\n",
    "        return c\n",
    "    \n",
    "obj= addingNumber(2,4)\n",
    "obj.add()"
   ]
  },
  {
   "cell_type": "code",
   "execution_count": 10,
   "id": "02a80f4c",
   "metadata": {},
   "outputs": [
    {
     "name": "stdout",
     "output_type": "stream",
     "text": [
      "name of facultyaj\n",
      "address of facultypune\n",
      "salary of faculty20000\n"
     ]
    }
   ],
   "source": [
    " class faculty():\n",
    "        \n",
    "        def __init__(self,name,address,salary):\n",
    "            self.name=name\n",
    "            self.address=address\n",
    "            self.salary=salary\n",
    "            \n",
    "        def displayinfo(self):\n",
    "            print(f\"name of faculty{self.name}\")\n",
    "            print(f\"address of faculty{self.address}\")\n",
    "            print(f\"salary of faculty{self.salary}\")\n",
    "            \n",
    "obj=faculty(\"aj\",\"pune\",\"20000\")\n",
    "obj.displayinfo()"
   ]
  },
  {
   "cell_type": "code",
   "execution_count": 12,
   "id": "cc5135e7",
   "metadata": {},
   "outputs": [
    {
     "name": "stdout",
     "output_type": "stream",
     "text": [
      "Enter faculty id1\n",
      "Enter faculty nameriya\n",
      "enter salary4000\n",
      "faculty id 1\n",
      "faculty name riya\n",
      "faculty salary 4000\n"
     ]
    }
   ],
   "source": [
    "class faculty():\n",
    "    \n",
    "    def __init__(self):\n",
    "        self.id=int(input(\"Enter faculty id\"))\n",
    "        self.name=input(\"Enter faculty name\")\n",
    "        self.salary=int(input(\"enter salary\"))\n",
    "                        \n",
    "    def disp(self):\n",
    "        print(\"faculty id\",self.id)\n",
    "        print(\"faculty name\",self.name)\n",
    "        print(\"faculty salary\",self.salary)\n",
    "                        \n",
    "obj1=faculty()\n",
    "obj1.disp()"
   ]
  },
  {
   "cell_type": "code",
   "execution_count": 13,
   "id": "3aedd701",
   "metadata": {},
   "outputs": [],
   "source": [
    "# Substraction using constructor"
   ]
  },
  {
   "cell_type": "code",
   "execution_count": 18,
   "id": "2f86852e",
   "metadata": {},
   "outputs": [
    {
     "data": {
      "text/plain": [
       "7"
      ]
     },
     "execution_count": 18,
     "metadata": {},
     "output_type": "execute_result"
    }
   ],
   "source": [
    "class substration():\n",
    "    \n",
    "    def __init__(self,a,b):\n",
    "        self.a=a\n",
    "        self.b=b\n",
    "        \n",
    "    def disp(self):\n",
    "        c=self.a+self.b\n",
    "        return c\n",
    "    \n",
    "a=substration(3,4)\n",
    "a.disp()\n",
    "    \n",
    "        \n",
    "        \n",
    "    "
   ]
  },
  {
   "cell_type": "code",
   "execution_count": 19,
   "id": "37b0b537",
   "metadata": {},
   "outputs": [],
   "source": [
    "# find the area of reactangle"
   ]
  },
  {
   "cell_type": "code",
   "execution_count": 21,
   "id": "5034d07c",
   "metadata": {},
   "outputs": [
    {
     "data": {
      "text/plain": [
       "20"
      ]
     },
     "execution_count": 21,
     "metadata": {},
     "output_type": "execute_result"
    }
   ],
   "source": [
    "class reactangle():\n",
    "    \n",
    "    def __init__(self,length,width):\n",
    "        self.length=length\n",
    "        self.width=width\n",
    "        \n",
    "    def displayarea(self):\n",
    "        c=self.length*self.width\n",
    "        return c\n",
    "    \n",
    "rect=reactangle(4,5)\n",
    "rect.displayarea()"
   ]
  },
  {
   "cell_type": "code",
   "execution_count": 26,
   "id": "bf0e84e9",
   "metadata": {},
   "outputs": [
    {
     "data": {
      "text/plain": [
       "24"
      ]
     },
     "execution_count": 26,
     "metadata": {},
     "output_type": "execute_result"
    }
   ],
   "source": [
    "#calculate_perimeter\n",
    "\n",
    "class perimeter():\n",
    "    \n",
    "    def __init__(self,length,width):\n",
    "        self.length=length\n",
    "        self.width=width\n",
    "        \n",
    "    def calculateperimeter(self):\n",
    "        c=2*(self.length*self.width)\n",
    "        return c\n",
    "    \n",
    "a=perimeter(3,4)\n",
    "a.calculateperimeter()    "
   ]
  },
  {
   "cell_type": "code",
   "execution_count": 27,
   "id": "65122955",
   "metadata": {},
   "outputs": [],
   "source": [
    "# Inheritance"
   ]
  },
  {
   "cell_type": "code",
   "execution_count": null,
   "id": "8b036df8",
   "metadata": {},
   "outputs": [],
   "source": [
    "#simple Inheritance single Inheritance"
   ]
  },
  {
   "cell_type": "code",
   "execution_count": 42,
   "id": "c87309a9",
   "metadata": {},
   "outputs": [],
   "source": [
    "class cal():\n",
    "    \n",
    "    def add(self,a,b):\n",
    "           print(a+b)"
   ]
  },
  {
   "cell_type": "code",
   "execution_count": 43,
   "id": "d3a585fb",
   "metadata": {},
   "outputs": [],
   "source": [
    "class cal1(cal):\n",
    "    \n",
    "    def sub(self,a,b):\n",
    "           print(a-b)"
   ]
  },
  {
   "cell_type": "code",
   "execution_count": 45,
   "id": "35ca073e",
   "metadata": {},
   "outputs": [
    {
     "name": "stdout",
     "output_type": "stream",
     "text": [
      "9\n",
      "1\n"
     ]
    }
   ],
   "source": [
    "a=cal1()\n",
    "a.add(5,4)\n",
    "a.sub(5,4)"
   ]
  },
  {
   "cell_type": "code",
   "execution_count": null,
   "id": "18677afd",
   "metadata": {},
   "outputs": [],
   "source": [
    "#Multilevel Inheritance, parent to child,child to grand child,grand child to grand child passing the references"
   ]
  },
  {
   "cell_type": "code",
   "execution_count": 46,
   "id": "bb3a9588",
   "metadata": {},
   "outputs": [
    {
     "name": "stdout",
     "output_type": "stream",
     "text": [
      "30\n",
      "10\n",
      "200\n",
      "2.0\n"
     ]
    }
   ],
   "source": [
    "class cal():\n",
    "    \n",
    "    def add(self,a,b):\n",
    "        print(a+b)\n",
    "        \n",
    "class cal2(cal):\n",
    "    \n",
    "    def sub(self,a,b):\n",
    "        print(a-b)\n",
    "        \n",
    "class cal3(cal2):\n",
    "    \n",
    "    def mul(self,a,b):\n",
    "        print(a*b)\n",
    "        \n",
    "class cal4(cal3):\n",
    "    \n",
    "    def divide(self,a,b):\n",
    "        print(a/b)\n",
    "        \n",
    "a=cal4();\n",
    "a.add(20,10)\n",
    "a.sub(20,10)\n",
    "a.mul(20,10)\n",
    "a.divide(20,10)"
   ]
  },
  {
   "cell_type": "code",
   "execution_count": 47,
   "id": "e455f3b9",
   "metadata": {},
   "outputs": [],
   "source": [
    "#multiple Inheritance number of classes is independent class,\n",
    "#remaing  or last class passing the reference of other independent class"
   ]
  },
  {
   "cell_type": "code",
   "execution_count": 53,
   "id": "a8025b23",
   "metadata": {},
   "outputs": [
    {
     "name": "stdout",
     "output_type": "stream",
     "text": [
      "12\n",
      "8\n",
      "20\n",
      "5.0\n"
     ]
    }
   ],
   "source": [
    "class addition():\n",
    "    \n",
    "    def add(self,a,b):\n",
    "        print(a+b)\n",
    "        \n",
    "class substraction():\n",
    "    def sub(self,a,b):\n",
    "        print(a-b)\n",
    "        \n",
    "class multiplication():\n",
    "    def mul(self,a,b):\n",
    "        print(a*b)\n",
    "        \n",
    "class division():\n",
    "    def div(self,a,b):\n",
    "        print(a/b)\n",
    "        \n",
    "class getRes(addition,substraction,multiplication,division):\n",
    "    def resultinfo(self,a,b):\n",
    "        print(\"a\")\n",
    "        print(\"b\")\n",
    "        \n",
    "a=getRes()\n",
    "a.add(10,2)\n",
    "a.sub(10,2)\n",
    "a.mul(10,2)\n",
    "a.div(10,2)"
   ]
  },
  {
   "cell_type": "code",
   "execution_count": 55,
   "id": "27107d1f",
   "metadata": {},
   "outputs": [],
   "source": [
    "# Hirechical Inheritance Only pass the parent class object in the other child classes"
   ]
  },
  {
   "cell_type": "code",
   "execution_count": 61,
   "id": "c88c4941",
   "metadata": {},
   "outputs": [
    {
     "name": "stdout",
     "output_type": "stream",
     "text": [
      "12\n",
      "5.0\n"
     ]
    },
    {
     "ename": "AttributeError",
     "evalue": "'division' object has no attribute 'sub'",
     "output_type": "error",
     "traceback": [
      "\u001b[1;31m---------------------------------------------------------------------------\u001b[0m",
      "\u001b[1;31mAttributeError\u001b[0m                            Traceback (most recent call last)",
      "Cell \u001b[1;32mIn[61], line 24\u001b[0m\n\u001b[0;32m     22\u001b[0m a\u001b[38;5;241m.\u001b[39madd(\u001b[38;5;241m10\u001b[39m,\u001b[38;5;241m2\u001b[39m)\n\u001b[0;32m     23\u001b[0m a\u001b[38;5;241m.\u001b[39mdiv(\u001b[38;5;241m10\u001b[39m,\u001b[38;5;241m2\u001b[39m)\n\u001b[1;32m---> 24\u001b[0m a\u001b[38;5;241m.\u001b[39msub(\u001b[38;5;241m10\u001b[39m,\u001b[38;5;241m2\u001b[39m)\n\u001b[0;32m     25\u001b[0m a\u001b[38;5;241m.\u001b[39mmul(\u001b[38;5;241m10\u001b[39m,\u001b[38;5;241m2\u001b[39m)\n",
      "\u001b[1;31mAttributeError\u001b[0m: 'division' object has no attribute 'sub'"
     ]
    }
   ],
   "source": [
    "class addiition():\n",
    "    \n",
    "    def add(self,a,b):\n",
    "        print(a+b)\n",
    "        \n",
    "class substract(addition):\n",
    "    \n",
    "    def sub(self,a,b):\n",
    "        print(a-b)\n",
    "        \n",
    "class mul(addition):\n",
    "    \n",
    "    def mul(self,a,b):\n",
    "        print(a*b)\n",
    "        \n",
    "class division(addition):\n",
    "    \n",
    "    def div(self,a,b):\n",
    "        print(a/b)\n",
    "        \n",
    "a=division()\n",
    "a.add(10,2)\n",
    "a.div(10,2)\n",
    "#a.sub(10,2) why throw error\n",
    "#a.mul(10,2) why throw error\n",
    "    \n"
   ]
  },
  {
   "cell_type": "code",
   "execution_count": null,
   "id": "77f320ee",
   "metadata": {},
   "outputs": [],
   "source": []
  }
 ],
 "metadata": {
  "kernelspec": {
   "display_name": "Python 3 (ipykernel)",
   "language": "python",
   "name": "python3"
  },
  "language_info": {
   "codemirror_mode": {
    "name": "ipython",
    "version": 3
   },
   "file_extension": ".py",
   "mimetype": "text/x-python",
   "name": "python",
   "nbconvert_exporter": "python",
   "pygments_lexer": "ipython3",
   "version": "3.11.5"
  }
 },
 "nbformat": 4,
 "nbformat_minor": 5
}
